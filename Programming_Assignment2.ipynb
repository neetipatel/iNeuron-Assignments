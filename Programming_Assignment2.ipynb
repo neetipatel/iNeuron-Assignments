{
 "cells": [
  {
   "cell_type": "markdown",
   "metadata": {},
   "source": [
    "##### Q1. Write a Python program to convert kilometers to miles."
   ]
  },
  {
   "cell_type": "code",
   "execution_count": 8,
   "metadata": {},
   "outputs": [
    {
     "name": "stdout",
     "output_type": "stream",
     "text": [
      "enter distance in kilometers : 35.5\n",
      "distance in miles is : 22.0586705\n"
     ]
    }
   ],
   "source": [
    "k= float(input(\"enter distance in kilometers : \"))\n",
    "print('distance in miles is : '+ str(k*0.621371))"
   ]
  },
  {
   "cell_type": "markdown",
   "metadata": {},
   "source": [
    "---"
   ]
  },
  {
   "cell_type": "markdown",
   "metadata": {},
   "source": [
    "##### Q2. Write a Python program to convert Celsius to Fahrenheit."
   ]
  },
  {
   "cell_type": "code",
   "execution_count": 11,
   "metadata": {},
   "outputs": [
    {
     "name": "stdout",
     "output_type": "stream",
     "text": [
      "enter temperature in Celsius : 98\n",
      "temperature in Fahrenheit is : 208.4\n"
     ]
    }
   ],
   "source": [
    "t = float(input(\"enter temperature in Celsius : \"))\n",
    "print('temperature in Fahrenheit is : '+ str((t*(9/5) + 32)))\n"
   ]
  },
  {
   "cell_type": "markdown",
   "metadata": {},
   "source": [
    "---"
   ]
  },
  {
   "cell_type": "markdown",
   "metadata": {},
   "source": [
    "##### Q3. Write a Python program to display calendar."
   ]
  },
  {
   "cell_type": "code",
   "execution_count": 13,
   "metadata": {},
   "outputs": [
    {
     "name": "stdout",
     "output_type": "stream",
     "text": [
      "Enter year: 2019\n",
      "Enter month: 6\n",
      "     June 2019\n",
      "Mo Tu We Th Fr Sa Su\n",
      "                1  2\n",
      " 3  4  5  6  7  8  9\n",
      "10 11 12 13 14 15 16\n",
      "17 18 19 20 21 22 23\n",
      "24 25 26 27 28 29 30\n",
      "\n"
     ]
    }
   ],
   "source": [
    "import calendar\n",
    "\n",
    "year = int(input(\"Enter year: \"))\n",
    "month = int(input(\"Enter month: \"))\n",
    "\n",
    "print(calendar.month(year, month))\n"
   ]
  },
  {
   "cell_type": "markdown",
   "metadata": {},
   "source": [
    "---"
   ]
  },
  {
   "cell_type": "markdown",
   "metadata": {},
   "source": [
    "##### Q4. Write a Python program to solve quadratic equation."
   ]
  },
  {
   "cell_type": "code",
   "execution_count": 18,
   "metadata": {},
   "outputs": [
    {
     "name": "stdout",
     "output_type": "stream",
     "text": [
      "a= 2\n",
      "b= -11\n",
      "c= 5\n",
      "This equation has two solutions:  5.0 or 0.5\n"
     ]
    }
   ],
   "source": [
    "import math \n",
    " \n",
    "a = int(input('a= ')) \n",
    "b = int(input('b= ')) \n",
    "c = int(input('c= ')) \n",
    " \n",
    "d = b**2-4*a*c \n",
    " \n",
    "if d < 0: \n",
    "   print('The equation has no real solution') \n",
    "elif d == 0: \n",
    "   x = (-b)/(2*a) \n",
    "   print('This equation has one solution: ',x) \n",
    "else: \n",
    "   x1 = (-b+math.sqrt(d))/(2*a) \n",
    "   x2 = (-b-math.sqrt(d))/(2*a) \n",
    "   print('This equation has two solutions: ',x1, 'or', x2)"
   ]
  },
  {
   "cell_type": "markdown",
   "metadata": {},
   "source": [
    "---"
   ]
  },
  {
   "cell_type": "markdown",
   "metadata": {},
   "source": [
    "##### Q5. Write a Python program to swap two variables without temp variable."
   ]
  },
  {
   "cell_type": "code",
   "execution_count": 2,
   "metadata": {},
   "outputs": [
    {
     "name": "stdout",
     "output_type": "stream",
     "text": [
      "m = 10\n",
      "n = 25\n"
     ]
    }
   ],
   "source": [
    "m = 25\n",
    "n = 10\n",
    "\n",
    "m, n = n, m\n",
    "print(\"m =\", m)\n",
    "print(\"n =\", n)\n"
   ]
  }
 ],
 "metadata": {
  "kernelspec": {
   "display_name": "Python 3",
   "language": "python",
   "name": "python3"
  },
  "language_info": {
   "codemirror_mode": {
    "name": "ipython",
    "version": 3
   },
   "file_extension": ".py",
   "mimetype": "text/x-python",
   "name": "python",
   "nbconvert_exporter": "python",
   "pygments_lexer": "ipython3",
   "version": "3.8.5"
  }
 },
 "nbformat": 4,
 "nbformat_minor": 4
}
